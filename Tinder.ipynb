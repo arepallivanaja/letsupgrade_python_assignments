{
  "nbformat": 4,
  "nbformat_minor": 0,
  "metadata": {
    "colab": {
      "name": "Tinder.ipynb",
      "provenance": []
    },
    "kernelspec": {
      "name": "python3",
      "display_name": "Python 3"
    },
    "language_info": {
      "name": "python"
    }
  },
  "cells": [
    {
      "cell_type": "markdown",
      "metadata": {
        "id": "UdnaKKx_gB6A"
      },
      "source": [
        "1.Login  via Mobile number using OTP\n",
        "2.Create profile with \n",
        " 1.Name \n",
        " 2.Number\n",
        " 3.Location\n",
        "    1.Lat Lng\n",
        "    2.City\n",
        "    3.State\n",
        "    4.Country\n",
        "  4.Gender\n",
        "  5.Job\n",
        "  6.Passion\n",
        "  7.Company\n",
        "  8.Age/DOB\n",
        "  9.Images X9\n",
        "  -----------------------\n",
        "  10.UID(User id)\n",
        "  11.createdAt\n",
        "  12.Lastopenedat\n",
        "3.Feed->\n",
        " 1.User data array[]\n",
        "4.Matching->\n",
        "  1.Left swipe->Rejecting\n",
        "  2.Right swiope->I want to talk!!!!\n",
        "\n",
        "\n",
        "\n",
        "  \n",
        "  \n",
        "\n"
      ]
    },
    {
      "cell_type": "code",
      "metadata": {
        "id": "c9vEoM7a4s8l"
      },
      "source": [
        "import firebase_admin\n"
      ],
      "execution_count": 6,
      "outputs": []
    },
    {
      "cell_type": "code",
      "metadata": {
        "id": "rrQACcfHjw18"
      },
      "source": [
        "from firebase_admin import credentials,auth,firestore,storage"
      ],
      "execution_count": 11,
      "outputs": []
    },
    {
      "cell_type": "code",
      "metadata": {
        "colab": {
          "base_uri": "https://localhost:8080/",
          "height": 350
        },
        "id": "TAMdob29kEYI",
        "outputId": "64321160-ffc3-435b-86c0-b59a1a73ac4b"
      },
      "source": [
        "cred=credentials.Certificate('/content/tinderclone-fa787-firebase-adminsdk-c6t2d-682dee013a.json')\n",
        "firebase_admin.initialize_app(cred)\n",
        "store=firestore.client()"
      ],
      "execution_count": 12,
      "outputs": [
        {
          "output_type": "error",
          "ename": "ValueError",
          "evalue": "ignored",
          "traceback": [
            "\u001b[0;31m---------------------------------------------------------------------------\u001b[0m",
            "\u001b[0;31mValueError\u001b[0m                                Traceback (most recent call last)",
            "\u001b[0;32m<ipython-input-12-edcb15e208f3>\u001b[0m in \u001b[0;36m<module>\u001b[0;34m()\u001b[0m\n\u001b[1;32m      1\u001b[0m \u001b[0mcred\u001b[0m\u001b[0;34m=\u001b[0m\u001b[0mcredentials\u001b[0m\u001b[0;34m.\u001b[0m\u001b[0mCertificate\u001b[0m\u001b[0;34m(\u001b[0m\u001b[0;34m'/content/tinderclone-fa787-firebase-adminsdk-c6t2d-682dee013a.json'\u001b[0m\u001b[0;34m)\u001b[0m\u001b[0;34m\u001b[0m\u001b[0;34m\u001b[0m\u001b[0m\n\u001b[0;32m----> 2\u001b[0;31m \u001b[0mfirebase_admin\u001b[0m\u001b[0;34m.\u001b[0m\u001b[0minitialize_app\u001b[0m\u001b[0;34m(\u001b[0m\u001b[0mcred\u001b[0m\u001b[0;34m)\u001b[0m\u001b[0;34m\u001b[0m\u001b[0;34m\u001b[0m\u001b[0m\n\u001b[0m\u001b[1;32m      3\u001b[0m \u001b[0mstore\u001b[0m\u001b[0;34m=\u001b[0m\u001b[0mfirestore\u001b[0m\u001b[0;34m.\u001b[0m\u001b[0mclient\u001b[0m\u001b[0;34m(\u001b[0m\u001b[0;34m)\u001b[0m\u001b[0;34m\u001b[0m\u001b[0;34m\u001b[0m\u001b[0m\n",
            "\u001b[0;32m/usr/local/lib/python3.7/dist-packages/firebase_admin/__init__.py\u001b[0m in \u001b[0;36minitialize_app\u001b[0;34m(credential, options, name)\u001b[0m\n\u001b[1;32m     70\u001b[0m     \u001b[0;32mif\u001b[0m \u001b[0mname\u001b[0m \u001b[0;34m==\u001b[0m \u001b[0m_DEFAULT_APP_NAME\u001b[0m\u001b[0;34m:\u001b[0m\u001b[0;34m\u001b[0m\u001b[0;34m\u001b[0m\u001b[0m\n\u001b[1;32m     71\u001b[0m         raise ValueError((\n\u001b[0;32m---> 72\u001b[0;31m             \u001b[0;34m'The default Firebase app already exists. This means you called '\u001b[0m\u001b[0;34m\u001b[0m\u001b[0;34m\u001b[0m\u001b[0m\n\u001b[0m\u001b[1;32m     73\u001b[0m             \u001b[0;34m'initialize_app() more than once without providing an app name as '\u001b[0m\u001b[0;34m\u001b[0m\u001b[0;34m\u001b[0m\u001b[0m\n\u001b[1;32m     74\u001b[0m             \u001b[0;34m'the second argument. In most cases you only need to call '\u001b[0m\u001b[0;34m\u001b[0m\u001b[0;34m\u001b[0m\u001b[0m\n",
            "\u001b[0;31mValueError\u001b[0m: The default Firebase app already exists. This means you called initialize_app() more than once without providing an app name as the second argument. In most cases you only need to call initialize_app() once. But if you do want to initialize multiple apps, pass a second argument to initialize_app() to give each app a unique name."
          ]
        }
      ]
    },
    {
      "cell_type": "code",
      "metadata": {
        "colab": {
          "base_uri": "https://localhost:8080/"
        },
        "id": "s61ex9VBtC1t",
        "outputId": "7329b762-0527-4996-8bb7-1f4fed425059"
      },
      "source": [
        "user = auth.create_user(\n",
        "    email='arepallivanaja@gmail.com',\n",
        "    email_verified=False,\n",
        "    \n",
        "    password='123456')\n",
        "    \n",
        "    \n",
        "print('Sucessfully created new user: {0}'.format(user.uid))"
      ],
      "execution_count": 20,
      "outputs": [
        {
          "output_type": "stream",
          "text": [
            "Sucessfully created new user: mJAEzWIlEkgLUcH6JEYAZtVQOSw1\n"
          ],
          "name": "stdout"
        }
      ]
    },
    {
      "cell_type": "code",
      "metadata": {
        "colab": {
          "base_uri": "https://localhost:8080/"
        },
        "id": "aVflFmmzENVB",
        "outputId": "87abdce4-367f-41c0-b324-66fe31e5d68c"
      },
      "source": [
        "try:\n",
        "  user=auth.get_user_by_email(\"arepallivanaja@gmail.com\")\n",
        "  print(user.uid)\n",
        "except:\n",
        "  print(\"Error no useer found\")"
      ],
      "execution_count": 21,
      "outputs": [
        {
          "output_type": "stream",
          "text": [
            "mJAEzWIlEkgLUcH6JEYAZtVQOSw1\n"
          ],
          "name": "stdout"
        }
      ]
    }
  ]
}