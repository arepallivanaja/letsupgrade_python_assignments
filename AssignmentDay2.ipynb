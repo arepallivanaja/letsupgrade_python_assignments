{
  "nbformat": 4,
  "nbformat_minor": 0,
  "metadata": {
    "colab": {
      "name": "Assignment2.ipynb",
      "provenance": []
    },
    "kernelspec": {
      "name": "python3",
      "display_name": "Python 3"
    }
  },
  "cells": [
    {
      "cell_type": "markdown",
      "metadata": {
        "id": "z0lZiUHi0uus"
      },
      "source": [
        "# Task 1\r\n",
        "\r\n",
        "\r\n",
        "Try 5 different functions of the string in python .\r\n",
        "FOr example -- index,split  function"
      ]
    },
    {
      "cell_type": "code",
      "metadata": {
        "colab": {
          "base_uri": "https://localhost:8080/"
        },
        "id": "Q0jQJvT4xU9i",
        "outputId": "e65f0cd1-c0e1-45ef-f49c-4de55a8572b2"
      },
      "source": [
        "name=\"lets upgrade\"\r\n",
        "addr=\"Vijayawada\"\r\n",
        "print(name.index(\"g\"))\r\n",
        "print(name.split())\r\n",
        "print(name + \" @ \" + addr)\r\n",
        "print(name.title())\r\n",
        "print(name.capitalize())\r\n",
        "print(name.swapcase())\r\n",
        "\r\n"
      ],
      "execution_count": 16,
      "outputs": [
        {
          "output_type": "stream",
          "text": [
            "7\n",
            "['lets', 'upgrade']\n",
            "lets upgrade @ Vijayawada\n",
            "Lets Upgrade\n",
            "Lets upgrade\n",
            "LETS UPGRADE\n"
          ],
          "name": "stdout"
        }
      ]
    },
    {
      "cell_type": "markdown",
      "metadata": {
        "id": "PqLGcY_U1T4e"
      },
      "source": [
        "# Task 2\r\n",
        "\r\n",
        "Try 5 different functions of the List object  in python .\r\n"
      ]
    },
    {
      "cell_type": "code",
      "metadata": {
        "colab": {
          "base_uri": "https://localhost:8080/"
        },
        "id": "3nmDJDM60iYb",
        "outputId": "faa296cc-04a0-43a0-adaf-8c23e6b912f5"
      },
      "source": [
        "a=[\"lets\",2020,10.5,'upgrade']\r\n",
        "b=[2,3,4,9,6,43,23]\r\n",
        "b.sort()\r\n",
        "print(b)\r\n",
        "print(b[::-1])\r\n",
        "print(type(a))\r\n",
        "print(len(a))\r\n",
        "b.append(1000)\r\n",
        "print(b)\r\n",
        "b.insert(1,200)\r\n",
        "print(b)\r\n",
        "print(a)\r\n",
        "a.pop()\r\n",
        "print(a)"
      ],
      "execution_count": 34,
      "outputs": [
        {
          "output_type": "stream",
          "text": [
            "[2, 3, 4, 6, 9, 23, 43]\n",
            "[43, 23, 9, 6, 4, 3, 2]\n",
            "<class 'list'>\n",
            "4\n",
            "[2, 3, 4, 6, 9, 23, 43, 1000]\n",
            "[2, 200, 3, 4, 6, 9, 23, 43, 1000]\n",
            "['lets', 2020, 10.5, 'upgrade']\n",
            "['lets', 2020, 10.5]\n"
          ],
          "name": "stdout"
        }
      ]
    },
    {
      "cell_type": "markdown",
      "metadata": {
        "id": "VpojC51b5v95"
      },
      "source": [
        "# Task 3\r\n",
        "Experiment with atleast 5 default functions in dictionary\r\n"
      ]
    },
    {
      "cell_type": "code",
      "metadata": {
        "colab": {
          "base_uri": "https://localhost:8080/"
        },
        "id": "oh8_yaIA5pEY",
        "outputId": "e99b1e2c-20fc-4302-f6fa-efc22bf49160"
      },
      "source": [
        "dict1={\"name\":\"LUG\",\"addr\":\"vja\",\"age\":24,\"no\":4567}\r\n",
        "print(dict1)\r\n",
        "print(dict1.items())\r\n",
        "print(dict1.get(\"name\"))\r\n",
        "print(dict1.keys())\r\n",
        "print(dict1.values())\r\n",
        "b=dict1.copy()\r\n",
        "print(b)\r\n",
        "p=dict1.pop(\"no\")\r\n",
        "print(p)\r\n",
        "print(dict1)\r\n",
        "print(dict1.items())"
      ],
      "execution_count": 47,
      "outputs": [
        {
          "output_type": "stream",
          "text": [
            "{'name': 'LUG', 'addr': 'vja', 'age': 24, 'no': 4567}\n",
            "dict_items([('name', 'LUG'), ('addr', 'vja'), ('age', 24), ('no', 4567)])\n",
            "LUG\n",
            "dict_keys(['name', 'addr', 'age', 'no'])\n",
            "dict_values(['LUG', 'vja', 24, 4567])\n",
            "{'name': 'LUG', 'addr': 'vja', 'age': 24, 'no': 4567}\n",
            "4567\n",
            "{'name': 'LUG', 'addr': 'vja', 'age': 24}\n",
            "dict_items([('name', 'LUG'), ('addr', 'vja'), ('age', 24)])\n"
          ],
          "name": "stdout"
        }
      ]
    }
  ]
}