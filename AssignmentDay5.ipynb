{
  "nbformat": 4,
  "nbformat_minor": 0,
  "metadata": {
    "colab": {
      "name": "AssignmentDay5.ipynb",
      "provenance": []
    },
    "kernelspec": {
      "name": "python3",
      "display_name": "Python 3"
    }
  },
  "cells": [
    {
      "cell_type": "markdown",
      "metadata": {
        "id": "yExXivw00rzC"
      },
      "source": [
        "Do the project - Develop a cryptography app in python and Upload it in Github"
      ]
    },
    {
      "cell_type": "code",
      "metadata": {
        "colab": {
          "base_uri": "https://localhost:8080/"
        },
        "id": "EgPKUuta2VWf",
        "outputId": "94ddb929-4d75-4fcd-e727-437aeae38569"
      },
      "source": [
        "pip install cryptography\r\n"
      ],
      "execution_count": 12,
      "outputs": [
        {
          "output_type": "stream",
          "text": [
            "Collecting cryptography\n",
            "\u001b[?25l  Downloading https://files.pythonhosted.org/packages/c9/de/7054df0620b5411ba45480f0261e1fb66a53f3db31b28e3aa52c026e72d9/cryptography-3.3.1-cp36-abi3-manylinux2010_x86_64.whl (2.6MB)\n",
            "\u001b[K     |████████████████████████████████| 2.6MB 8.1MB/s \n",
            "\u001b[?25hRequirement already satisfied: cffi>=1.12 in /usr/local/lib/python3.6/dist-packages (from cryptography) (1.14.4)\n",
            "Requirement already satisfied: six>=1.4.1 in /usr/local/lib/python3.6/dist-packages (from cryptography) (1.15.0)\n",
            "Requirement already satisfied: pycparser in /usr/local/lib/python3.6/dist-packages (from cffi>=1.12->cryptography) (2.20)\n",
            "Installing collected packages: cryptography\n",
            "Successfully installed cryptography-3.3.1\n"
          ],
          "name": "stdout"
        }
      ]
    },
    {
      "cell_type": "code",
      "metadata": {
        "colab": {
          "base_uri": "https://localhost:8080/"
        },
        "id": "jEJvO2qn0mkg",
        "outputId": "80179363-a223-42a5-cf9d-52e3381d517e"
      },
      "source": [
        "from cryptography.fernet import Fernet\r\n",
        "def generatePassKey():\r\n",
        "  key=Fernet.generate_key()\r\n",
        "  print(key)\r\n",
        "  print(type(key))\r\n",
        "  abc=open(\"PasswordKey.key\",'wb')\r\n",
        "  abc.write(key)\r\n",
        "  abc.close()\r\n",
        "generatePassKey()"
      ],
      "execution_count": 13,
      "outputs": [
        {
          "output_type": "stream",
          "text": [
            "b'pPqd5Qa72rWeOe4R7C3oVqYGsEIZKyELcE7z80LcgIk='\n",
            "<class 'bytes'>\n"
          ],
          "name": "stdout"
        }
      ]
    },
    {
      "cell_type": "code",
      "metadata": {
        "colab": {
          "base_uri": "https://localhost:8080/"
        },
        "id": "rWtSUQl64gKU",
        "outputId": "b6cefee8-ef02-4fb1-f663-37f41cabd13d"
      },
      "source": [
        "def getMyKey():\r\n",
        "  abc=open(\"PasswordKey.key\",'rb')\r\n",
        "  return abc.read()\r\n",
        "getMyKey()"
      ],
      "execution_count": 15,
      "outputs": [
        {
          "output_type": "execute_result",
          "data": {
            "text/plain": [
              "b'8Tpiw0NbNxnwCoZNWzmBrIghkrQkmOBKo905LTjyvFg='"
            ]
          },
          "metadata": {
            "tags": []
          },
          "execution_count": 15
        }
      ]
    },
    {
      "cell_type": "code",
      "metadata": {
        "colab": {
          "base_uri": "https://localhost:8080/",
          "height": 52
        },
        "id": "ju8V0ayL9Jbb",
        "outputId": "2590c4d5-10c0-4771-eeea-fef28ae35129"
      },
      "source": [
        "def getContentFromUser():\r\n",
        "  return input(\"Enter content to encrypt\")\r\n",
        "getContentFromUser()"
      ],
      "execution_count": 9,
      "outputs": [
        {
          "output_type": "stream",
          "text": [
            "Enter content to encryptHello user.3\n"
          ],
          "name": "stdout"
        },
        {
          "output_type": "execute_result",
          "data": {
            "application/vnd.google.colaboratory.intrinsic+json": {
              "type": "string"
            },
            "text/plain": [
              "'Hello user.3'"
            ]
          },
          "metadata": {
            "tags": []
          },
          "execution_count": 9
        }
      ]
    },
    {
      "cell_type": "code",
      "metadata": {
        "colab": {
          "base_uri": "https://localhost:8080/",
          "height": 316
        },
        "id": "hJcluNXJ5QQR",
        "outputId": "051cef80-cf1d-4336-a0ad-1436eb1c2ced"
      },
      "source": [
        "def encryptMeassage(message_normal):\r\n",
        "  key=getMyKey()\r\n",
        "  k = Fernet(key)\r\n",
        "  encrypted_Message=k.encrypt(message_normal)\r\n",
        "  return encrypted_Message\r\n",
        "encryptMeassage(b'Hey')"
      ],
      "execution_count": 6,
      "outputs": [
        {
          "output_type": "error",
          "ename": "NameError",
          "evalue": "ignored",
          "traceback": [
            "\u001b[0;31m---------------------------------------------------------------------------\u001b[0m",
            "\u001b[0;31mNameError\u001b[0m                                 Traceback (most recent call last)",
            "\u001b[0;32m<ipython-input-6-793ac1644966>\u001b[0m in \u001b[0;36m<module>\u001b[0;34m()\u001b[0m\n\u001b[1;32m      4\u001b[0m   \u001b[0mencrypted_Message\u001b[0m\u001b[0;34m=\u001b[0m\u001b[0mk\u001b[0m\u001b[0;34m.\u001b[0m\u001b[0mencrypt\u001b[0m\u001b[0;34m(\u001b[0m\u001b[0mmessage_normal\u001b[0m\u001b[0;34m)\u001b[0m\u001b[0;34m\u001b[0m\u001b[0;34m\u001b[0m\u001b[0m\n\u001b[1;32m      5\u001b[0m   \u001b[0;32mreturn\u001b[0m \u001b[0mencrypted_Message\u001b[0m\u001b[0;34m\u001b[0m\u001b[0;34m\u001b[0m\u001b[0m\n\u001b[0;32m----> 6\u001b[0;31m \u001b[0mencryptMeassage\u001b[0m\u001b[0;34m(\u001b[0m\u001b[0;34mb'Hey'\u001b[0m\u001b[0;34m)\u001b[0m\u001b[0;34m\u001b[0m\u001b[0;34m\u001b[0m\u001b[0m\n\u001b[0m",
            "\u001b[0;32m<ipython-input-6-793ac1644966>\u001b[0m in \u001b[0;36mencryptMeassage\u001b[0;34m(message_normal)\u001b[0m\n\u001b[1;32m      1\u001b[0m \u001b[0;32mdef\u001b[0m \u001b[0mencryptMeassage\u001b[0m\u001b[0;34m(\u001b[0m\u001b[0mmessage_normal\u001b[0m\u001b[0;34m)\u001b[0m\u001b[0;34m:\u001b[0m\u001b[0;34m\u001b[0m\u001b[0;34m\u001b[0m\u001b[0m\n\u001b[0;32m----> 2\u001b[0;31m   \u001b[0mkey\u001b[0m\u001b[0;34m=\u001b[0m\u001b[0mgetMyKey\u001b[0m\u001b[0;34m(\u001b[0m\u001b[0;34m)\u001b[0m\u001b[0;34m\u001b[0m\u001b[0;34m\u001b[0m\u001b[0m\n\u001b[0m\u001b[1;32m      3\u001b[0m   \u001b[0mk\u001b[0m \u001b[0;34m=\u001b[0m \u001b[0mFernet\u001b[0m\u001b[0;34m(\u001b[0m\u001b[0mkey\u001b[0m\u001b[0;34m)\u001b[0m\u001b[0;34m\u001b[0m\u001b[0;34m\u001b[0m\u001b[0m\n\u001b[1;32m      4\u001b[0m   \u001b[0mencrypted_Message\u001b[0m\u001b[0;34m=\u001b[0m\u001b[0mk\u001b[0m\u001b[0;34m.\u001b[0m\u001b[0mencrypt\u001b[0m\u001b[0;34m(\u001b[0m\u001b[0mmessage_normal\u001b[0m\u001b[0;34m)\u001b[0m\u001b[0;34m\u001b[0m\u001b[0;34m\u001b[0m\u001b[0m\n\u001b[1;32m      5\u001b[0m   \u001b[0;32mreturn\u001b[0m \u001b[0mencrypted_Message\u001b[0m\u001b[0;34m\u001b[0m\u001b[0;34m\u001b[0m\u001b[0m\n",
            "\u001b[0;31mNameError\u001b[0m: name 'getMyKey' is not defined"
          ]
        }
      ]
    },
    {
      "cell_type": "code",
      "metadata": {
        "colab": {
          "base_uri": "https://localhost:8080/"
        },
        "id": "YiwWP3Ea8XG1",
        "outputId": "b8970e29-0a02-41c0-fc6b-94a45fa00a6c"
      },
      "source": [
        "def decryptMessage(message_secret,key):\r\n",
        "  key=getMyKey()\r\n",
        "  k = Fernet(key)\r\n",
        "  decrypted_Message=k.decrypt(message_secret)\r\n",
        "  return decrypted_Message\r\n",
        "decryptMessage(b'gAAAAABf2uHKMrMJJqDiYq6SNKU_AcBa-kwYVi7UeGaxGfncI-Thx8qi8-6-BOOeFyFpwS_eqclGDRl5oSPiW1heGXbYl6egeQ==')"
      ],
      "execution_count": 37,
      "outputs": [
        {
          "output_type": "execute_result",
          "data": {
            "text/plain": [
              "b'Hey'"
            ]
          },
          "metadata": {
            "tags": []
          },
          "execution_count": 37
        }
      ]
    },
    {
      "cell_type": "code",
      "metadata": {
        "id": "gQGCUUj6AxcZ"
      },
      "source": [
        "def decryptMessage(message_secret,key):\r\n",
        "  k = Fernet(key)\r\n",
        "  decrypted_Message=k.decrypt(message_secret)\r\n",
        "  return decrypted_Message\r\n"
      ],
      "execution_count": 41,
      "outputs": []
    },
    {
      "cell_type": "code",
      "metadata": {
        "colab": {
          "base_uri": "https://localhost:8080/"
        },
        "id": "yeDRL_lMBLQY",
        "outputId": "29ae44ba-004c-4dd5-c11e-7e26525a5dba"
      },
      "source": [
        "userMessage=getContentFromUser()\r\n",
        "k=generatePassKey()\r\n",
        "e_m=encryptMeassage(b'userMessage')"
      ],
      "execution_count": 17,
      "outputs": [
        {
          "output_type": "stream",
          "text": [
            "Enter content to encryptHello user\n",
            "b'lWDIJ0d-KO6Zdk9Qh_Gx-RtSpQ_TNzdlQIpXSFv5mGg='\n",
            "<class 'bytes'>\n"
          ],
          "name": "stdout"
        }
      ]
    }
  ]
}