{
  "nbformat": 4,
  "nbformat_minor": 0,
  "metadata": {
    "colab": {
      "name": "AssignmentDay3.ipynb",
      "provenance": []
    },
    "kernelspec": {
      "name": "python3",
      "display_name": "Python 3"
    }
  },
  "cells": [
    {
      "cell_type": "markdown",
      "metadata": {
        "id": "bMz6XM1mzwZI"
      },
      "source": [
        "#Question1\r\n",
        "\r\n",
        "Use IF ELSE AND ELIF to write a program in python for your report cards"
      ]
    },
    {
      "cell_type": "code",
      "metadata": {
        "colab": {
          "base_uri": "https://localhost:8080/"
        },
        "id": "35h6lnjazrnj",
        "outputId": "13457f3f-50dd-4a19-d2fe-68c52a1610e1"
      },
      "source": [
        "marks=int(input())\r\n",
        "if marks > 90:\r\n",
        "  print(\"Grade A\")\r\n",
        "elif marks>80 and marks<=90:\r\n",
        "  print(\"Grade B\")\r\n",
        "elif marks>70 and marks<=80:\r\n",
        "  print(\"Grade C\")\r\n",
        "elif marks>60 and marks<=70:\r\n",
        "  print(\"Grade D\")\r\n",
        "elif marks>50 and marks<=60:\r\n",
        "  print(\"Grade E\")\r\n",
        "else:\r\n",
        "  print(\"fail\")\r\n"
      ],
      "execution_count": 5,
      "outputs": [
        {
          "output_type": "stream",
          "text": [
            "60\n",
            "Grade E\n"
          ],
          "name": "stdout"
        }
      ]
    },
    {
      "cell_type": "markdown",
      "metadata": {
        "id": "yERPZX7AINFO"
      },
      "source": [
        "# Question 2\r\n",
        "Use  For loop to print prime numbers in between 1 to 1000\r\n"
      ]
    },
    {
      "cell_type": "code",
      "metadata": {
        "colab": {
          "base_uri": "https://localhost:8080/"
        },
        "id": "sKbeKXgdIME4",
        "outputId": "5bea9c92-a617-4cb2-e1e8-fac04b73bc7e"
      },
      "source": [
        "n1=int(input())\r\n",
        "n2=int(input())\r\n",
        "\r\n",
        "for num in range(n1,n2):\r\n",
        "  if num>1:\r\n",
        "    for i in range(2,num):\r\n",
        "\r\n",
        "      if num%i==0:\r\n",
        "        break\r\n",
        "    else:\r\n",
        "      print(num,end=\" \")#to print all the values in 1 line with space between 2 values here i have used end=\" \""
      ],
      "execution_count": 22,
      "outputs": [
        {
          "output_type": "stream",
          "text": [
            "1\n",
            "1000\n",
            "2 3 5 7 11 13 17 19 23 29 31 37 41 43 47 53 59 61 67 71 73 79 83 89 97 101 103 107 109 113 127 131 137 139 149 151 157 163 167 173 179 181 191 193 197 199 211 223 227 229 233 239 241 251 257 263 269 271 277 281 283 293 307 311 313 317 331 337 347 349 353 359 367 373 379 383 389 397 401 409 419 421 431 433 439 443 449 457 461 463 467 479 487 491 499 503 509 521 523 541 547 557 563 569 571 577 587 593 599 601 607 613 617 619 631 641 643 647 653 659 661 673 677 683 691 701 709 719 727 733 739 743 751 757 761 769 773 787 797 809 811 821 823 827 829 839 853 857 859 863 877 881 883 887 907 911 919 929 937 941 947 953 967 971 977 983 991 997 "
          ],
          "name": "stdout"
        }
      ]
    },
    {
      "cell_type": "markdown",
      "metadata": {
        "id": "pcggzfUvM7ZW"
      },
      "source": [
        "# Question 3\r\n",
        "Write a program to print the tables from 1 to 10 using Nested For Loop"
      ]
    },
    {
      "cell_type": "code",
      "metadata": {
        "colab": {
          "base_uri": "https://localhost:8080/"
        },
        "id": "JOpWbBvbNgJO",
        "outputId": "49a11252-9a17-4db5-d14b-1bf79b23025f"
      },
      "source": [
        "n1=int(input())\r\n",
        "n2=int(input())\r\n",
        "for i in range(n1,n2):\r\n",
        "  for n in range(n1,n2):\r\n",
        "    res=i*n\r\n",
        "    print(i ,\"x\" ,n ,\"=\", res)\r\n",
        "    \r\n",
        "\r\n"
      ],
      "execution_count": 31,
      "outputs": [
        {
          "output_type": "stream",
          "text": [
            "1\n",
            "11\n",
            "1 x 1 = 1\n",
            "1 x 2 = 2\n",
            "1 x 3 = 3\n",
            "1 x 4 = 4\n",
            "1 x 5 = 5\n",
            "1 x 6 = 6\n",
            "1 x 7 = 7\n",
            "1 x 8 = 8\n",
            "1 x 9 = 9\n",
            "1 x 10 = 10\n",
            "2 x 1 = 2\n",
            "2 x 2 = 4\n",
            "2 x 3 = 6\n",
            "2 x 4 = 8\n",
            "2 x 5 = 10\n",
            "2 x 6 = 12\n",
            "2 x 7 = 14\n",
            "2 x 8 = 16\n",
            "2 x 9 = 18\n",
            "2 x 10 = 20\n",
            "3 x 1 = 3\n",
            "3 x 2 = 6\n",
            "3 x 3 = 9\n",
            "3 x 4 = 12\n",
            "3 x 5 = 15\n",
            "3 x 6 = 18\n",
            "3 x 7 = 21\n",
            "3 x 8 = 24\n",
            "3 x 9 = 27\n",
            "3 x 10 = 30\n",
            "4 x 1 = 4\n",
            "4 x 2 = 8\n",
            "4 x 3 = 12\n",
            "4 x 4 = 16\n",
            "4 x 5 = 20\n",
            "4 x 6 = 24\n",
            "4 x 7 = 28\n",
            "4 x 8 = 32\n",
            "4 x 9 = 36\n",
            "4 x 10 = 40\n",
            "5 x 1 = 5\n",
            "5 x 2 = 10\n",
            "5 x 3 = 15\n",
            "5 x 4 = 20\n",
            "5 x 5 = 25\n",
            "5 x 6 = 30\n",
            "5 x 7 = 35\n",
            "5 x 8 = 40\n",
            "5 x 9 = 45\n",
            "5 x 10 = 50\n",
            "6 x 1 = 6\n",
            "6 x 2 = 12\n",
            "6 x 3 = 18\n",
            "6 x 4 = 24\n",
            "6 x 5 = 30\n",
            "6 x 6 = 36\n",
            "6 x 7 = 42\n",
            "6 x 8 = 48\n",
            "6 x 9 = 54\n",
            "6 x 10 = 60\n",
            "7 x 1 = 7\n",
            "7 x 2 = 14\n",
            "7 x 3 = 21\n",
            "7 x 4 = 28\n",
            "7 x 5 = 35\n",
            "7 x 6 = 42\n",
            "7 x 7 = 49\n",
            "7 x 8 = 56\n",
            "7 x 9 = 63\n",
            "7 x 10 = 70\n",
            "8 x 1 = 8\n",
            "8 x 2 = 16\n",
            "8 x 3 = 24\n",
            "8 x 4 = 32\n",
            "8 x 5 = 40\n",
            "8 x 6 = 48\n",
            "8 x 7 = 56\n",
            "8 x 8 = 64\n",
            "8 x 9 = 72\n",
            "8 x 10 = 80\n",
            "9 x 1 = 9\n",
            "9 x 2 = 18\n",
            "9 x 3 = 27\n",
            "9 x 4 = 36\n",
            "9 x 5 = 45\n",
            "9 x 6 = 54\n",
            "9 x 7 = 63\n",
            "9 x 8 = 72\n",
            "9 x 9 = 81\n",
            "9 x 10 = 90\n",
            "10 x 1 = 10\n",
            "10 x 2 = 20\n",
            "10 x 3 = 30\n",
            "10 x 4 = 40\n",
            "10 x 5 = 50\n",
            "10 x 6 = 60\n",
            "10 x 7 = 70\n",
            "10 x 8 = 80\n",
            "10 x 9 = 90\n",
            "10 x 10 = 100\n"
          ],
          "name": "stdout"
        }
      ]
    },
    {
      "cell_type": "markdown",
      "metadata": {
        "id": "7a4Tzrd5RPAU"
      },
      "source": [
        "# Question 4\r\n",
        "Write a program to print X Prime numbers using while loop and take input of X from the user"
      ]
    },
    {
      "cell_type": "code",
      "metadata": {
        "colab": {
          "base_uri": "https://localhost:8080/"
        },
        "id": "8ME4yw5BRm9I",
        "outputId": "1666d739-8b83-4f28-e903-330d653ff29d"
      },
      "source": [
        "i=0\r\n",
        "ct = 0\r\n",
        "x = int(input())\r\n",
        "while (ct < x):\r\n",
        "  c=0\r\n",
        "  for j in range (1, (i+1)):\r\n",
        "    \r\n",
        "    if (i%j==0):\r\n",
        "        c = c+1\r\n",
        "        \r\n",
        "  if (c==2):\r\n",
        "      print (i)\r\n",
        "      ct = ct+1\r\n",
        "      \r\n",
        "  i=i+1"
      ],
      "execution_count": 8,
      "outputs": [
        {
          "output_type": "stream",
          "text": [
            "5\n",
            "2\n",
            "3\n",
            "5\n",
            "7\n",
            "11\n"
          ],
          "name": "stdout"
        }
      ]
    }
  ]
}