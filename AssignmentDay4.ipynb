{
  "nbformat": 4,
  "nbformat_minor": 0,
  "metadata": {
    "colab": {
      "name": "AssignmentDay4.ipynb",
      "provenance": [],
      "collapsed_sections": []
    },
    "kernelspec": {
      "name": "python3",
      "display_name": "Python 3"
    }
  },
  "cells": [
    {
      "cell_type": "markdown",
      "metadata": {
        "id": "l1KB5EA7GLSa"
      },
      "source": [
        "# Question 1\r\n",
        "Write down a program in Python for Opening a File and Writing \" I Love LetsUpgrade\" And close\r\n",
        "it, and read it back again, and then append some data to it and close it.\r\n"
      ]
    },
    {
      "cell_type": "code",
      "metadata": {
        "id": "ppNBlfblFVyV"
      },
      "source": [
        "file1=open(\"Hello.txt\",'w+')\r\n",
        "file1.write(\" I Love LetsUpgrade\")\r\n",
        "file1.close()\r\n",
        "\r\n",
        "file1=open(\"Hello.txt\",'a')\r\n",
        "file1.write(\" for learning different technologies from this session\")\r\n",
        "file1.close()\r\n",
        "\r\n",
        "\r\n"
      ],
      "execution_count": 8,
      "outputs": []
    },
    {
      "cell_type": "markdown",
      "metadata": {
        "id": "VcBJLoKKG3ec"
      },
      "source": [
        "# Question 2\r\n",
        "Write a function which can return a Factorial of any numbers as int, given in the argument."
      ]
    },
    {
      "cell_type": "code",
      "metadata": {
        "id": "05fxReTyG7pO",
        "colab": {
          "base_uri": "https://localhost:8080/"
        },
        "outputId": "3500a185-4ad0-4fdd-ffcd-3c4378998a6f"
      },
      "source": [
        "n=int(input())\r\n",
        "\r\n",
        "def fact(n):\r\n",
        "  f=1\r\n",
        "  for i in range(1,n+1):\r\n",
        "    f=f*i\r\n",
        "  print(f)\r\n",
        "fact(n)"
      ],
      "execution_count": 17,
      "outputs": [
        {
          "output_type": "stream",
          "text": [
            "4\n",
            "24\n"
          ],
          "name": "stdout"
        }
      ]
    }
  ]
}